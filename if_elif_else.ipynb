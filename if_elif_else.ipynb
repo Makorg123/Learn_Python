{
 "cells": [
  {
   "cell_type": "code",
   "execution_count": 2,
   "id": "732063fb",
   "metadata": {},
   "outputs": [
    {
     "name": "stdout",
     "output_type": "stream",
     "text": [
      "enter the value of x: 4\n",
      "enter the value of y: 6\n",
      "y is greater. the value of y is: 6\n"
     ]
    }
   ],
   "source": [
    "# Basic example of if statement:\n",
    "\n",
    "x = input(\"enter the value of x: \")\n",
    "y = input(\"enter the value of y: \")\n",
    "\n",
    "if x > y:\n",
    "    print('x is greater. the value of x is:', x)\n",
    "else:\n",
    "    print('y is greater. the value of y is:', y)"
   ]
  },
  {
   "cell_type": "code",
   "execution_count": 3,
   "id": "cf3e01c2",
   "metadata": {},
   "outputs": [
    {
     "name": "stdout",
     "output_type": "stream",
     "text": [
      "x is greater than y\n",
      "x is greater than z\n"
     ]
    }
   ],
   "source": [
    "# Nested if statement:\n",
    "\n",
    "x,y,z = 5,3,4\n",
    "if x > y:\n",
    "    print('x is greater than y')\n",
    "    if x > z:\n",
    "        print('x is greater than z')"
   ]
  },
  {
   "cell_type": "code",
   "execution_count": 5,
   "id": "5a9fe60a",
   "metadata": {},
   "outputs": [
    {
     "name": "stdout",
     "output_type": "stream",
     "text": [
      "x is less than y and z\n"
     ]
    }
   ],
   "source": [
    "# Multiple conditions:\n",
    "\n",
    "x,y,z = 7,4,9\n",
    "if x > y and x > z:\n",
    "    print('x is greater')\n",
    "else:\n",
    "    print('x is less than y and z')"
   ]
  },
  {
   "cell_type": "code",
   "execution_count": 7,
   "id": "7fafd527",
   "metadata": {},
   "outputs": [],
   "source": [
    "# One line if statement:\n",
    "\n",
    "x, y = 5,7\n",
    "if x > y: print('x is greater'); print('y is smaller'); print('x and y are not equal')"
   ]
  },
  {
   "cell_type": "code",
   "execution_count": 19,
   "id": "e477d173",
   "metadata": {},
   "outputs": [
    {
     "name": "stdout",
     "output_type": "stream",
     "text": [
      "Enter your Marks for Subject1: 34\n",
      "Enter your Marks for Subject2: 65\n",
      "Enter your Marks for Subject3: 89\n",
      "--------------------\n",
      "Your Total makrs is: 188\n",
      "--------------------\n",
      "your Percentage is: 63 %\n",
      "--------------------\n",
      "You've got 34 marks in Subject1, and you have not passed\n",
      "Oh no you are failed\n"
     ]
    }
   ],
   "source": [
    "# Q: Grading Program:\n",
    "# assigning grades (A, B, C) based on marks obtained by a student.\n",
    "# -- if the percentage is above 90, assign grade A\n",
    "# -- if the percentage is above 75, assign grade B\n",
    "# -- if the percentage is above 65, assign grade C\n",
    "\n",
    "sub1 = int(input(\"Enter your Marks for Subject1: \"))\n",
    "sub2 = int(input(\"Enter your Marks for Subject2: \"))\n",
    "sub3 = int(input(\"Enter your Marks for Subject3: \"))\n",
    "\n",
    "totalmarks = sub1 + sub2 + sub3\n",
    "print('-'*20)\n",
    "print(\"Your Total makrs is:\",totalmarks)\n",
    "percentage = round(totalmarks/300*100)\n",
    "print('-'*20)\n",
    "print(\"Your Total Percentage is:\",percentage,'%')\n",
    "print('-'*20)\n",
    "\n",
    "if sub1 <40:\n",
    "    print(f\"You've got {sub1} marks in Subject1, and you have not passed\")\n",
    "elif sub2 < 40:\n",
    "    print(f\"You've got {sub2} marks in Subject2, and you have not passed\")\n",
    "elif sub3 < 40:\n",
    "    print(f\"You've got{sub3} marks in Subject3, and you have not passed\")\n",
    "if percentage >= 90:\n",
    "    print(\"Congrates you've got A Grade\")\n",
    "elif percentage >= 75:\n",
    "    print(\"Well done you've got B Grade\")\n",
    "elif percentage >= 65:\n",
    "    print(\"Nice you've got C Grade\")\n",
    "else:\n",
    "    print(\"Oh no you are failed\")"
   ]
  },
  {
   "cell_type": "code",
   "execution_count": 24,
   "id": "2f0d9016",
   "metadata": {},
   "outputs": [
    {
     "name": "stdout",
     "output_type": "stream",
     "text": [
      "Enter the First Number: 45\n",
      "Enter the Second Number: 46\n",
      "--------------------\n",
      "Number 1 is smaller than Number 2\n"
     ]
    }
   ],
   "source": [
    "# Q: Number Comparison:\n",
    "# Write a program that takes two numbers as input and prints whether the first number is greater, smaller, or equal to the \n",
    "# second number.\n",
    "\n",
    "num1 = int(input(\"Enter the First Number: \"))\n",
    "num2 = int(input(\"Enter the Second Number: \"))\n",
    "\n",
    "print('-'*20)\n",
    "\n",
    "if num1 > num2:\n",
    "    print('Number 1 is greater than Number2')\n",
    "elif num1 == num2:\n",
    "    print(\"Number 1 is equal to Number 2\")\n",
    "else:\n",
    "    print(\"Number 1 is smaller than Number 2\")"
   ]
  },
  {
   "cell_type": "code",
   "execution_count": 27,
   "id": "481f758a",
   "metadata": {},
   "outputs": [
    {
     "name": "stdout",
     "output_type": "stream",
     "text": [
      "Enter the Number: 2\n",
      "--------------------\n",
      "2 Number is even\n"
     ]
    }
   ],
   "source": [
    "# Q: Even or Odd:\n",
    "# Write a program that takes an integer as input and prints whether it's even or odd.\n",
    "\n",
    "number = int(input(\"Enter the Number: \"))\n",
    "\n",
    "print('-'*20)\n",
    "\n",
    "if (number % 2) == 0:\n",
    "    print('{0} Number is even'.format(number))\n",
    "else:\n",
    "    print(\"{0} Number is odd\".format(number))"
   ]
  },
  {
   "cell_type": "code",
   "execution_count": 37,
   "id": "8ddda84e",
   "metadata": {},
   "outputs": [
    {
     "name": "stdout",
     "output_type": "stream",
     "text": [
      "Enter the Year: 1800\n",
      "--------------------\n",
      "1800 this is not the leap Year\n"
     ]
    }
   ],
   "source": [
    "# Leap Year Checker:\n",
    "# Write a program that checks if a given year is a leap year. A leap year is divisible by 4, \n",
    "# except for years that are divisible by 100 but not by 400.\n",
    "\n",
    "year = int(input(\"Enter the Year: \"))\n",
    "\n",
    "print('-'*20)\n",
    "\n",
    "if (year % 400 == 0) and (year % 100 == 0):\n",
    "    print('{0} This is the leap Year'.format(year))\n",
    "elif (year % 4 == 0) and (year % 100 != 0):\n",
    "    print('{0} This is not the leap Year'.format(year))\n",
    "else:\n",
    "    print(\"{0} this is not the leap Year\".format(year))"
   ]
  },
  {
   "cell_type": "code",
   "execution_count": 48,
   "id": "e530d59c",
   "metadata": {},
   "outputs": [
    {
     "name": "stdout",
     "output_type": "stream",
     "text": [
      "Enter your Weight[kg]: 74\n",
      "Enter your Height[cm]: 1.5\n",
      "Your BMI is 328888.89: you're obese\n"
     ]
    }
   ],
   "source": [
    "# Q: BMI Calculator:\n",
    "# Write a program that calculates the Body Mass Index (BMI) using the formula: BMI = weight(kg) / height(m)^2. \n",
    "# It should then categorize the BMI as underweight (<18.5), normal (18.5-24.9), overweight (25-29.9), or obese (>=30).\n",
    "\n",
    "weight = float(input(\"Enter your Weight[kg]: \"))\n",
    "height = float(input(\"Enter your Height[cm]: \"))\n",
    "\n",
    "height = height / 100\n",
    "\n",
    "BMI = weight / (height ** 2)\n",
    "\n",
    "if BMI <= 18.5:\n",
    "    print(f\"Your BMI is {BMI:.2f}: Congrates you're underweight\")\n",
    "elif 18.5 < BMI < 24.9:\n",
    "    print(f\"Your BMI is {BMI:.2f}: you're normal\")\n",
    "elif 25 <= BMI <29.9:\n",
    "    print(f\"Your BMI is {BMI:.2f} you're overweight\")\n",
    "else:\n",
    "    print(f\"Your BMI is {BMI:.2f}: you're obese\")"
   ]
  },
  {
   "cell_type": "code",
   "execution_count": 49,
   "id": "53aff0c7",
   "metadata": {},
   "outputs": [
    {
     "name": "stdout",
     "output_type": "stream",
     "text": [
      "Enter your weight in kg: 74\n",
      "Enter your height in meters: 1.5\n",
      "Your BMI is 32.89, which is categorized as Obese.\n"
     ]
    }
   ],
   "source": [
    "# Using function.\n",
    "def calculate_bmi(weight, height):\n",
    "    bmi = weight / (height ** 2)\n",
    "    return bmi\n",
    "\n",
    "def categorize_bmi(bmi):\n",
    "    if bmi < 18.5:\n",
    "        return \"Underweight\"\n",
    "    elif 18.5 <= bmi < 25:\n",
    "        return \"Normal\"\n",
    "    elif 25 <= bmi < 30:\n",
    "        return \"Overweight\"\n",
    "    else:\n",
    "        return \"Obese\"\n",
    "\n",
    "# Input\n",
    "weight = float(input(\"Enter your weight in kg: \"))\n",
    "height = float(input(\"Enter your height in meters: \"))\n",
    "\n",
    "# Calculate BMI\n",
    "bmi = calculate_bmi(weight, height)\n",
    "\n",
    "# Categorize BMI\n",
    "category = categorize_bmi(bmi)\n",
    "\n",
    "# Output\n",
    "print(f\"Your BMI is {bmi:.2f}, which is categorized as {category}.\")\n"
   ]
  },
  {
   "cell_type": "code",
   "execution_count": null,
   "id": "24704aa7",
   "metadata": {},
   "outputs": [],
   "source": []
  }
 ],
 "metadata": {
  "kernelspec": {
   "display_name": "Python 3 (ipykernel)",
   "language": "python",
   "name": "python3"
  },
  "language_info": {
   "codemirror_mode": {
    "name": "ipython",
    "version": 3
   },
   "file_extension": ".py",
   "mimetype": "text/x-python",
   "name": "python",
   "nbconvert_exporter": "python",
   "pygments_lexer": "ipython3",
   "version": "3.8.16"
  }
 },
 "nbformat": 4,
 "nbformat_minor": 5
}
